{
 "cells": [
  {
   "cell_type": "markdown",
   "metadata": {},
   "source": [
    "# MI-MVI tutorial 3#\n",
    "\n",
    "Today we try to use recurrent neural networks (RNN) to predict words in english text.\n",
    "\n",
    " - Based on TF RNN tutorial: https://www.tensorflow.org/tutorials/recurrent\n",
    " - Pretty images an some thory come from: https://colah.github.io/posts/2015-08-Understanding-LSTMs/"
   ]
  },
  {
   "cell_type": "markdown",
   "metadata": {},
   "source": [
    "A recurrent neural network can be thought of as multiple copies of the same network, each passing a message to a successor. Consider what happens if we unroll the loop:\n",
    "\n",
    "![RNN unroled](images/RNN-unrolled.png \"Structure of unrolled RNN.\")\n",
    "\n",
    "In the above diagram, a chunk of neural network, *A*, looks at some input *x_t* and outputs a value *h_t*. A loop allows information to be passed from one step of the network to the next. The *A* labelled boxes are elementary modules which vary with particular type of RNN. In standard RNN they look like:\n",
    "\n",
    "![RNN cenll](images/SimpleRNNcell.png)\n",
    "in comparison to LSTM cell:\n",
    "![LSTM cell](images/LSTMcell.png)\n",
    "\n",
    "We will focus on standard RNN cell. The yellow box with *tanh* is neural network layer. It combinates input *x_t* and previous state of the preceeding cell. We are going to build such cell from scratch, but you can implement the **tf.contrib.rnn.RNNCell** abstract class."
   ]
  },
  {
   "cell_type": "markdown",
   "metadata": {},
   "source": [
    "**Import** all packages that will be used."
   ]
  },
  {
   "cell_type": "code",
   "execution_count": null,
   "metadata": {
    "collapsed": true
   },
   "outputs": [],
   "source": [
    "import os, sys, tarfile\n",
    "import collections\n",
    "from six.moves.urllib.request import urlretrieve\n",
    "import numpy as np\n",
    "import tensorflow as tf"
   ]
  },
  {
   "cell_type": "markdown",
   "metadata": {},
   "source": [
    "Download a [Penn Tree Bank (PTB)](https://catalog.ldc.upenn.edu/ldc99t42) dataset. We use an identical approach as in the last tutorial."
   ]
  },
  {
   "cell_type": "code",
   "execution_count": null,
   "metadata": {},
   "outputs": [],
   "source": [
    "url = 'http://www.fit.vutbr.cz/~imikolov/rnnlm/'\n",
    "data_root = 'data/rnn'\n",
    "last_percent_reported = None\n",
    "\n",
    "# make sure the dataset directory exists\n",
    "if not os.path.isdir(data_root):\n",
    "  os.makedirs(data_root)\n",
    "\n",
    "def download_progress_hook(count, blockSize, totalSize):\n",
    "  \"\"\"A hook to report the progress of a download. This is mostly intended for users with\n",
    "  slow internet connections. Reports every 5% change in download progress.\n",
    "  \"\"\"\n",
    "  global last_percent_reported\n",
    "  percent = int(count * blockSize * 100 / totalSize)\n",
    "\n",
    "  if last_percent_reported != percent:\n",
    "    if percent % 5 == 0:\n",
    "      sys.stdout.write(\"%s%%\" % percent)\n",
    "      sys.stdout.flush()\n",
    "    else:\n",
    "      sys.stdout.write(\".\")\n",
    "      sys.stdout.flush()\n",
    "      \n",
    "    last_percent_reported = percent\n",
    "    \n",
    "def maybe_download(filename, expected_bytes, force=False):\n",
    "  \"\"\"Download a file if not present, and make sure it's the right size.\"\"\"\n",
    "  dest_filename = os.path.join(data_root, filename)\n",
    "  if force or not os.path.exists(dest_filename):\n",
    "    print('Attempting to download:', filename) \n",
    "    filename, _ = urlretrieve(url + filename, dest_filename, reporthook=download_progress_hook)\n",
    "    print('\\nDownload Complete!')\n",
    "  statinfo = os.stat(dest_filename)\n",
    "  if statinfo.st_size == expected_bytes:\n",
    "    print('Found and verified', dest_filename)\n",
    "  else:\n",
    "    raise Exception(\n",
    "      'Failed to verify ' + dest_filename + '. Can you get to it with a browser?')\n",
    "  return dest_filename\n",
    "\n",
    "train_filename = maybe_download('simple-examples.tgz', 34869662)"
   ]
  },
  {
   "cell_type": "markdown",
   "metadata": {},
   "source": [
    "We need to unpack the downloaded data. The desired content is in **data** subdirectory."
   ]
  },
  {
   "cell_type": "code",
   "execution_count": null,
   "metadata": {},
   "outputs": [],
   "source": [
    "def maybe_extract(filename, force=False):\n",
    "  root = os.path.splitext(os.path.splitext(filename)[0])[0]  # remove .tar.gz\n",
    "  if os.path.isdir(root) and not force:\n",
    "    # You may override by setting force=True.\n",
    "    print('%s already present - Skipping extraction of %s.' % (root, filename))\n",
    "  else:\n",
    "    print('Extracting data for %s. This may take a while. Please wait.' % root)\n",
    "    tar = tarfile.open(filename)\n",
    "    sys.stdout.flush()\n",
    "    tar.extractall(data_root)\n",
    "    tar.close()\n",
    "  data_folders = [\n",
    "    os.path.join(root, d) for d in sorted(os.listdir(root))\n",
    "    if os.path.isdir(os.path.join(root, d))]\n",
    "  \n",
    "  print(data_folders)\n",
    "  return data_folders\n",
    "  \n",
    "train_folders = maybe_extract(train_filename)"
   ]
  },
  {
   "cell_type": "markdown",
   "metadata": {},
   "source": [
    "Now we define a few helpers to manipulate the data. Because a TF needs tensors of numbers we need to represent words by numbers. For this requirement we build a vocabulary from a given file. The vocabulary will contain a key-value pairs of following meaning 'word':ID.\n",
    "\n",
    "A **ptb_raw_data** method loads all necessary files, creates vocabularies and transform content of train, validation and test datafiles to number sequences."
   ]
  },
  {
   "cell_type": "code",
   "execution_count": null,
   "metadata": {
    "collapsed": true
   },
   "outputs": [],
   "source": [
    "def _read_words(filename):\n",
    "  with tf.gfile.GFile(filename, \"r\") as f:\n",
    "    return f.read().replace(\"\\n\", \"<eos>\").split()\n",
    "\n",
    "def _build_vocab(filename, wordsLimit=None):\n",
    "  data = _read_words(filename)\n",
    "  counter = collections.Counter(data)\n",
    "  count_pairs = sorted(counter.items(), key=lambda x: (-x[1], x[0]))\n",
    "  if (wordsLimit!=None):\n",
    "        count_pairs = count_pairs[0:wordsLimit]\n",
    "  words, _ = list(zip(*count_pairs))\n",
    "  word_to_id = dict(zip(words, range(len(words))))\n",
    "  return word_to_id\n",
    "\n",
    "def _file_to_word_ids(filename, word_to_id):\n",
    "  data = _read_words(filename)\n",
    "  return [word_to_id[word] for word in data if word in word_to_id]\n",
    "\n",
    "def ptb_raw_data(data_path=None, wordsLimit=None):\n",
    "  \"\"\"Load PTB raw data from data directory \"data_path\".\n",
    "  Reads PTB text files, converts strings to integer ids, and performs mini-batching of the inputs.\n",
    "  Args:\n",
    "    data_path: string path to the directory where simple-examples.tgz has been extracted.\n",
    "  Returns:\n",
    "    tuple (train_data, valid_data, test_data, vocabulary)\n",
    "    where each of the data objects can be passed to PTBIterator.\n",
    "  \"\"\"\n",
    "\n",
    "  train_path = os.path.join(data_path, \"ptb.train.txt\")\n",
    "  valid_path = os.path.join(data_path, \"ptb.valid.txt\")\n",
    "  test_path = os.path.join(data_path, \"ptb.test.txt\")\n",
    "\n",
    "  word_to_id = _build_vocab(train_path, wordsLimit)\n",
    "  train_data = _file_to_word_ids(train_path, word_to_id)\n",
    "  valid_data = _file_to_word_ids(valid_path, word_to_id)\n",
    "  test_data = _file_to_word_ids(test_path, word_to_id)\n",
    "  vocabulary = len(word_to_id)\n",
    "  return train_data, valid_data, test_data, vocabulary"
   ]
  },
  {
   "cell_type": "markdown",
   "metadata": {},
   "source": [
    "Let us inspect the data:"
   ]
  },
  {
   "cell_type": "code",
   "execution_count": null,
   "metadata": {},
   "outputs": [],
   "source": [
    "# !!! TODO: pokud se ukaze, ze 10000 slov ve slovniku je moc na one hot encoding, profiltrujem slovnik.\n",
    "wordsLimit=10000\n",
    "\n",
    "# !!! TODO: posefit one hot encoding\n",
    "\n",
    "train_data, valid_data, test_data, vocabulary = ptb_raw_data(os.path.join(data_root, 'simple-examples/data'), wordsLimit)\n",
    "vocab = _build_vocab(os.path.join(data_root, 'simple-examples','data','ptb.test.txt'), wordsLimit)\n",
    "firstitems = {k: vocab[k] for k in sorted(vocab.keys())[:30]}\n",
    "\n",
    "print('train data len:', len(train_data))\n",
    "print('validation data len:', len(valid_data))\n",
    "print('test data len:', len(test_data))\n",
    "print('vocabulary item count:', vocabulary)\n",
    "print('the first 30 vocabulary items:', firstitems)"
   ]
  },
  {
   "cell_type": "markdown",
   "metadata": {},
   "source": [
    "\n",
    "!!! TODO: comment to following block"
   ]
  },
  {
   "cell_type": "code",
   "execution_count": null,
   "metadata": {
    "collapsed": true
   },
   "outputs": [],
   "source": [
    "def ptb_producer(raw_data, batch_size, num_steps, name=None):\n",
    "  \"\"\"Iterate on the raw PTB data.\n",
    "  This chunks up raw_data into batches of examples and returns Tensors that are drawn from these batches.\n",
    "  Args:\n",
    "    raw_data: one of the raw data outputs from ptb_raw_data.\n",
    "    batch_size: int, the batch size.\n",
    "    num_steps: int, the number of unrolls.\n",
    "    name: the name of this operation (optional).\n",
    "  Returns:\n",
    "    A pair of Tensors, each shaped [batch_size, num_steps]. The second element\n",
    "    of the tuple is the same data time-shifted to the right by one.\n",
    "  Raises:\n",
    "    tf.errors.InvalidArgumentError: if batch_size or num_steps are too high.\n",
    "  \"\"\"\n",
    "  with tf.name_scope(name, \"PTBProducer\", [raw_data, batch_size, num_steps]):\n",
    "    raw_data = tf.convert_to_tensor(raw_data, name=\"raw_data\", dtype=tf.int32)\n",
    "\n",
    "    data_len = tf.size(raw_data)\n",
    "    batch_len = data_len // batch_size\n",
    "    data = tf.reshape(raw_data[0 : batch_size * batch_len], [batch_size, batch_len])\n",
    "\n",
    "    epoch_size = (batch_len - 1) // num_steps\n",
    "    assertion = tf.assert_positive(epoch_size, message=\"epoch_size == 0, decrease batch_size or num_steps\")\n",
    "    with tf.control_dependencies([assertion]):\n",
    "      epoch_size = tf.identity(epoch_size, name=\"epoch_size\")\n",
    "\n",
    "    i = tf.train.range_input_producer(epoch_size, shuffle=False).dequeue()\n",
    "    x = tf.strided_slice(data, [0, i * num_steps], [batch_size, (i + 1) * num_steps])\n",
    "    x.set_shape([batch_size, num_steps])\n",
    "    y = tf.strided_slice(data, [0, i * num_steps + 1],[batch_size, (i + 1) * num_steps + 1])\n",
    "    y.set_shape([batch_size, num_steps])\n",
    "    return x, y"
   ]
  },
  {
   "cell_type": "markdown",
   "metadata": {},
   "source": [
    "It is a time to put all together... "
   ]
  },
  {
   "cell_type": "code",
   "execution_count": null,
   "metadata": {
    "collapsed": true
   },
   "outputs": [],
   "source": [
    "# !!! TODO: \n",
    "# 1) implementovat standardni RNN bunku a...\n",
    "# 2) az pote to spojit do celku (kod nize, v tuhle chvili jen pro ispiraci)\n",
    "\n",
    "num_batches = 2\n",
    "batch_size = 5\n",
    "lstm_size = 10\n",
    "\n",
    "num_steps = 3\n",
    "\n",
    "words_in_dataset = tf.placeholder(tf.float32, [num_batches, batch_size])\n",
    "lstm = tf.contrib.rnn.BasicLSTMCell(lstm_size, state_is_tuple=True)\n",
    "\n",
    "# Initial state of the LSTM memory.\n",
    "hidden_state = tf.zeros([batch_size, lstm.state_size.h])\n",
    "current_state = tf.zeros([batch_size, lstm.state_size.c])\n",
    "state = hidden_state, current_state\n",
    "probabilities = []\n",
    "loss = 0.0\n",
    "\n",
    "initial_state = state = tf.zeros([batch_size, lstm.state_size.c])\n",
    "total_loss = 0.0\n",
    "    \n",
    "with tf.Session() as session:\n",
    "  session.run(tf.global_variables_initializer())\n",
    "  \n",
    "  numpy_state = initial_state.eval()  \n",
    "    \n",
    "  for step in range(num_steps):\n",
    "    x, y = ptb_producer(train_data, batch_size=batch_size, num_steps=num_steps, name='batch'+str(step))\n",
    "    \n",
    "    print ('x:', x)\n",
    "    print ('y:', y)\n",
    "    \n",
    "    output, state = lstm(x, state)\n",
    "    print('step:', step)\n",
    "    print('output:', output)\n",
    "    print('state:', state)\n",
    "    \n",
    "    session.run([final_state, loss], feed_dict={\n",
    "        initial_state: numpy_state, \n",
    "        words: x}\n",
    "    )\n",
    "    total_loss += current_loss\n",
    "    \n",
    "    # The LSTM output can be used to make next word predictions\n",
    "    #logits = tf.matmul(output, softmax_w) + softmax_b\n",
    "    #probabilities.append(tf.nn.softmax(logits))\n",
    "    #loss += loss_function(probabilities, target_words)\n",
    "    \n",
    "    #print('Training finished after', num_steps, 'steps.')\n",
    "    #validation_accuracy = session.run(accuracy, feed_dict={\n",
    "    #  words_in_dataset: valid_data\n",
    "    #})\n",
    "    #print('Validation accuracy', validation_accuracy, '.')"
   ]
  },
  {
   "cell_type": "markdown",
   "metadata": {},
   "source": [
    "## Vanilla RNN and LSTM ##"
   ]
  },
  {
   "cell_type": "code",
   "execution_count": null,
   "metadata": {},
   "outputs": [],
   "source": [
    "state_size = 200\n",
    "xav_init = tf.contrib.layers.xavier_initializer\n",
    "\n",
    "def RNN_step(previous_hidden_state, input_tensor):\n",
    "    \n",
    "    # RNN parameters\n",
    "    W = tf.get_variable(\"W\", shape=[state_size, state_size], initializer=xav_init())\n",
    "    U = tf.get_variable(\"U\", shape=[state_size, state_size], initializer=xav_init())\n",
    "    b = tf.get_variable(\"b\", shape=[state_size], initializer=tf.constant_initializer(0.))\n",
    "    \n",
    "    # calculate new hidden state\n",
    "    hidden_state = tf.tanh(tf.matmul(previous_hidden_state, W) + tf.matmul(input_tensor,U) + b)\n",
    "    \n",
    "    return hidden_state\n",
    "\n",
    "def LSTM_step(previous_hidden_state, input_tensor):\n",
    "    \n",
    "    # weights for input\n",
    "    W = tf.get_variable('W', shape=[4, state_size, state_size], initializer=xav_init())\n",
    "    # weights for previous hidden state\n",
    "    U = tf.get_variable('U', shape=[4, state_size, state_size], initializer=xav_init())\n",
    "    \n",
    "    # gather previous internal state and output state\n",
    "    state, cell = tf.unstack(previous_hidden_state)\n",
    "    \n",
    "    # gates\n",
    "    input_gate = tf.sigmoid(tf.matmul(input_tensor, U[0]) + tf.matmul(state, W[0]))\n",
    "    forget_gate = tf.sigmoid(tf.matmul(input_tensor, U[1]) + tf.matmul(state, W[1]))\n",
    "    output_gate = tf.sigmoid(tf.matmul(input_tensor, U[2]) + tf.matmul(state, W[2]))\n",
    "    gate_weights = tf.tanh(tf.matmul(input_tensor, U[3]) + tf.matmul(state, W[3]))\n",
    "    \n",
    "    # new internal cell state\n",
    "    cell = cell * forget_gate + gate_weights * input_gate\n",
    "    \n",
    "    # output state\n",
    "    state = tf.tanh(cell) * output_gate\n",
    "    return tf.stack([state, cell])\n",
    "\n",
    "def RNN_logits(states):\n",
    "        \n",
    "    # RNN parameters\n",
    "    V = tf.get_variable('V', shape=[state_size, num_classes], initializer=xav_init())\n",
    "    bl = tf.get_variable('bl', shape=[num_classes], initializer=tf.constant_initializer(0.))\n",
    "    \n",
    "    # calculate logits\n",
    "    return tf.matmul(states, V) + bl"
   ]
  },
  {
   "cell_type": "markdown",
   "metadata": {},
   "source": [
    "## Vanilla RNN #"
   ]
  },
  {
   "cell_type": "code",
   "execution_count": null,
   "metadata": {
    "collapsed": true
   },
   "outputs": [],
   "source": [
    "tf.reset_default_graph()\n",
    "\n",
    "rnn_type = \"vanilla\"\n",
    "\n",
    "num_classes = vocabulary\n",
    "num_steps = 20\n",
    "batch_size = 20\n",
    "num_layers = 2\n",
    "\n",
    "input_tensor, labels_tensor = ptb_producer(train_data, batch_size=batch_size, num_steps=num_steps)\n",
    "\n",
    "embeddings = tf.get_variable(\"embeddings\", [num_classes, state_size])\n",
    "rnn_inputs = tf.nn.embedding_lookup(embeddings, input_tensor)\n",
    "\n",
    "init_hidden_state = tf.placeholder(shape=[batch_size, state_size], dtype=tf.float32)\n",
    "\n",
    "states = tf.scan(RNN_step, tf.transpose(rnn_inputs, [1,0,2]), initializer=init_hidden_state) \n",
    "states = tf.transpose(states, [1,0,2])\n",
    "\n",
    "states_reshaped = tf.reshape(states, [-1, state_size])\n",
    "logits = RNN_logits(states_reshaped)\n",
    "logits = tf.reshape(logits, [batch_size, num_steps, -1])\n",
    "\n",
    "predictions = tf.nn.softmax(logits)\n",
    "\n",
    "losses = tf.nn.sparse_softmax_cross_entropy_with_logits(logits=logits, labels=labels_tensor)\n",
    "loss = tf.reduce_mean(losses)\n",
    "train_op = tf.train.AdamOptimizer(learning_rate=0.1).minimize(loss)"
   ]
  },
  {
   "cell_type": "markdown",
   "metadata": {},
   "source": [
    "## LSTM ##"
   ]
  },
  {
   "cell_type": "code",
   "execution_count": null,
   "metadata": {},
   "outputs": [],
   "source": [
    "tf.reset_default_graph()\n",
    "\n",
    "rnn_type = \"LSTM\"\n",
    "\n",
    "num_classes = vocabulary\n",
    "num_steps = 20\n",
    "batch_size = 20\n",
    "\n",
    "input_tensor, labels_tensor = ptb_producer(train_data, batch_size=batch_size, num_steps=num_steps)\n",
    "\n",
    "embeddings = tf.get_variable(\"embeddings\", [num_classes, state_size])\n",
    "rnn_inputs = tf.nn.embedding_lookup(embeddings, input_tensor)\n",
    "\n",
    "init_hidden_state = tf.placeholder(shape=[2, batch_size, state_size], dtype=tf.float32, name='initial_state')\n",
    "\n",
    "states = tf.scan(LSTM_step, tf.transpose(rnn_inputs, [1,0,2]), initializer=init_hidden_state) \n",
    "states = tf.transpose(states, [1,2,0,3])[0]\n",
    "\n",
    "states_reshaped = tf.reshape(states, [-1, state_size])\n",
    "logits = RNN_logits(states_reshaped)\n",
    "logits = tf.reshape(logits, [batch_size, num_steps, -1])\n",
    "\n",
    "predictions = tf.nn.softmax(logits)\n",
    "\n",
    "losses = tf.nn.sparse_softmax_cross_entropy_with_logits(logits=logits, labels=labels_tensor)\n",
    "loss = tf.reduce_mean(losses)\n",
    "\n",
    "train_op = tf.train.AdamOptimizer(learning_rate=0.1).minimize(loss)"
   ]
  },
  {
   "cell_type": "code",
   "execution_count": null,
   "metadata": {},
   "outputs": [],
   "source": [
    "num_training_steps = 1000\n",
    "\n",
    "def create_feed_dict(rnn_type):\n",
    "    if rnn_type == \"vanilla\":\n",
    "        return np.zeros([batch_size, state_size])\n",
    "    else:\n",
    "        return np.zeros([2, batch_size, state_size])\n",
    "\n",
    "with tf.Session() as session:\n",
    "  session.run(tf.global_variables_initializer())\n",
    "  tf.train.start_queue_runners(sess=session)\n",
    "    \n",
    "  for step in range(num_training_steps):\n",
    "    \n",
    "    loss_val, _ = session.run([loss, train_op], feed_dict={\n",
    "        init_hidden_state: create_feed_dict(rnn_type)\n",
    "    })\n",
    "    print(\"step:\", step)\n",
    "    print(\"loss:\", loss_val)\n",
    "    print()"
   ]
  },
  {
   "cell_type": "markdown",
   "metadata": {},
   "source": [
    "TODO: \n",
    "* calculate perplexity\n",
    "* show sample outputs\n",
    "* multi-layer RNN? - I would avoid this if possible"
   ]
  },
  {
   "cell_type": "markdown",
   "metadata": {},
   "source": [
    "**Further reading**\n",
    "\n",
    "  * Well explained LSTM: https://colah.github.io/posts/2015-08-Understanding-LSTMs/"
   ]
  }
 ],
 "metadata": {
  "kernelspec": {
   "display_name": "Python 3",
   "language": "python",
   "name": "python3"
  },
  "language_info": {
   "codemirror_mode": {
    "name": "ipython",
    "version": 3
   },
   "file_extension": ".py",
   "mimetype": "text/x-python",
   "name": "python",
   "nbconvert_exporter": "python",
   "pygments_lexer": "ipython3",
   "version": "3.6.2"
  }
 },
 "nbformat": 4,
 "nbformat_minor": 2
}
