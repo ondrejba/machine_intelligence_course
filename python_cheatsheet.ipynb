{
 "cells": [
  {
   "cell_type": "markdown",
   "metadata": {},
   "source": [
    "# Python cheatsheet"
   ]
  },
  {
   "cell_type": "markdown",
   "metadata": {},
   "source": [
    "Python is a **dynamically typed language**, you don't have to worry about declaring variable types."
   ]
  },
  {
   "cell_type": "code",
   "execution_count": null,
   "metadata": {
    "collapsed": true
   },
   "outputs": [],
   "source": [
    "a = 10            # integer\n",
    "b = 10.8          # float\n",
    "c = \"str\"         # string\n",
    "d = True          # bool\n",
    "\n",
    "print(\"a: %d\" % a)\n",
    "print(\"b: %f\" % b)\n",
    "print(\"c: %s\" % c)\n",
    "print(\"d: %s\" % d)"
   ]
  },
  {
   "cell_type": "markdown",
   "metadata": {},
   "source": [
    "Arithmetic operations."
   ]
  },
  {
   "cell_type": "code",
   "execution_count": null,
   "metadata": {},
   "outputs": [],
   "source": [
    "x = 5\n",
    "y = 2\n",
    "\n",
    "print(\"%d + %d = %d\" % (x, y, x + y))\n",
    "print(\"%d - %d = %d\" % (x, y, x - y))\n",
    "print(\"%d * %d = %d\" % (x, y, x * y))\n",
    "print(\"%d ** %d = %d\" % (x, y, x ** y))\n",
    "\n",
    "print(\"\\nNotice the difference:\")\n",
    "print(\"%d / %d = %.1f\" % (x, y, x / y))\n",
    "print(\"%d // %d = %.1f\" % (x, y, x // y))\n",
    "\n",
    "print(\"\\nx = %d\" % x)\n",
    "x += 1\n",
    "print(\"+= 1: %d\" % x)\n",
    "x *= 2\n",
    "print(\"*= 2: %d\" % x)\n",
    "x /= 4\n",
    "print(\"/= 4: %d\" % x)"
   ]
  },
  {
   "cell_type": "markdown",
   "metadata": {},
   "source": [
    "You can control the flow of a Python program with **if-else statements** and **loops**."
   ]
  },
  {
   "cell_type": "code",
   "execution_count": null,
   "metadata": {
    "collapsed": true
   },
   "outputs": [],
   "source": [
    "x = 5\n",
    "\n",
    "if x > 4:\n",
    "    print(\"Smaller than 4.\")\n",
    "elif x == 4:\n",
    "    print(\"Equal to 4.\")\n",
    "else:\n",
    "    print(\"Bigger than 4.\")"
   ]
  },
  {
   "cell_type": "code",
   "execution_count": null,
   "metadata": {
    "collapsed": true
   },
   "outputs": [],
   "source": [
    "for i in range(5):\n",
    "    print(\"i: %d\" % i)"
   ]
  },
  {
   "cell_type": "markdown",
   "metadata": {},
   "source": [
    "The main containers Python provides are **lists**, **dictionaries** and **tuples**."
   ]
  },
  {
   "cell_type": "code",
   "execution_count": null,
   "metadata": {},
   "outputs": [],
   "source": [
    "a_list = [1, 3, 2, 4]\n",
    "\n",
    "print(a_list)\n",
    "print(\"Length: %d\" % len(a_list))\n",
    "\n",
    "print(\"\\nList indexing:\")\n",
    "print(\"a_list[2]: %d\" % a_list[2])\n",
    "\n",
    "print(\"\\nList slicing:\")\n",
    "print(a_list[2:])\n",
    "print(a_list[1:3])\n",
    "print(a_list[:2])"
   ]
  },
  {
   "cell_type": "code",
   "execution_count": null,
   "metadata": {
    "collapsed": true
   },
   "outputs": [],
   "source": [
    "a_dictionary = {\n",
    "    \"one\": 1,\n",
    "    \"two\": 2\n",
    "}\n",
    "\n",
    "print(a_dictionary)"
   ]
  },
  {
   "cell_type": "code",
   "execution_count": null,
   "metadata": {},
   "outputs": [],
   "source": [
    "a_tuple = (2, 4, 5)\n",
    "\n",
    "print(a_tuple)\n",
    "\n",
    "try:\n",
    "    a_tuple[1] = 4\n",
    "except TypeError:\n",
    "    print(\"Tuple are immutable (you cannot change them once you declare them).\")"
   ]
  },
  {
   "cell_type": "markdown",
   "metadata": {},
   "source": [
    "You can **loop** over a lists or a dictionary in a simple way."
   ]
  },
  {
   "cell_type": "code",
   "execution_count": null,
   "metadata": {},
   "outputs": [],
   "source": [
    "a_list = [1, 4, 3, 2]\n",
    "\n",
    "print(\"Loop over values:\")\n",
    "for value in a_list:\n",
    "    print(value)\n",
    "\n",
    "print(\"\\nLoop over indexed values:\")\n",
    "for i, value in enumerate(a_list):\n",
    "    print(\"i = %d: %d\" % (i, value))\n",
    "    \n",
    "print(\"\\nLoop over a sorted list:\")\n",
    "for value in sorted(a_list):\n",
    "    print(value)"
   ]
  },
  {
   "cell_type": "code",
   "execution_count": null,
   "metadata": {
    "collapsed": true
   },
   "outputs": [],
   "source": [
    "a_dictionary = {\n",
    "    \"one\": 1,\n",
    "    \"two\": 2\n",
    "}\n",
    "\n",
    "print(\"Loop over the dictionary:\")\n",
    "for key in a_dictionary.keys():\n",
    "    print(\"%s: %d\" % (key, a_dictionary[key]))"
   ]
  },
  {
   "cell_type": "markdown",
   "metadata": {},
   "source": [
    "Finally, Python supports **functions** and **classes**. While you should get familiar with functions, you most likely won't have to write classes in this course."
   ]
  },
  {
   "cell_type": "code",
   "execution_count": null,
   "metadata": {},
   "outputs": [],
   "source": [
    "def add(a, b):\n",
    "    # returns a single number\n",
    "    return a + b\n",
    "\n",
    "def add_and_multiply(a, b):\n",
    "    # returns a tuple\n",
    "    return a + b, a * b\n",
    "\n",
    "def identity(a, negate=False):\n",
    "    # an optional argument\n",
    "    if negate:\n",
    "        return -a\n",
    "    else:\n",
    "        return a\n",
    "\n",
    "x = add(2, 3)\n",
    "print(x)\n",
    "\n",
    "x, y = add_and_multiply(2, 3)\n",
    "print(y)\n",
    "\n",
    "x = identity(5, negate=True)\n",
    "print(x)"
   ]
  },
  {
   "cell_type": "code",
   "execution_count": null,
   "metadata": {},
   "outputs": [],
   "source": [
    "class NeuralNetwork():\n",
    "    \n",
    "    def __init__(self, layers):\n",
    "        self.layers = layers\n",
    "        \n",
    "    def print_layers(self):\n",
    "        for i, layer in enumerate(self.layers):\n",
    "            print(\"layer %d:\" % i)\n",
    "            print(layer)\n",
    "            print()\n",
    "            \n",
    "model = NeuralNetwork([[200, 100], [100, 50], [50, 1]])\n",
    "model.print_layers()"
   ]
  },
  {
   "cell_type": "markdown",
   "metadata": {},
   "source": [
    "**Additional resources:**\n",
    "* [Python and Numpy for machine learning tutorial](http://cs231n.github.io/python-numpy-tutorial/)\n",
    "* [Interactive Python course](https://www.codecademy.com/learn/python)\n",
    "* [Python documentation](https://docs.python.org/3/)"
   ]
  }
 ],
 "metadata": {
  "kernelspec": {
   "display_name": "Python 3",
   "language": "python",
   "name": "python3"
  },
  "language_info": {
   "codemirror_mode": {
    "name": "ipython",
    "version": 3
   },
   "file_extension": ".py",
   "mimetype": "text/x-python",
   "name": "python",
   "nbconvert_exporter": "python",
   "pygments_lexer": "ipython3",
   "version": "3.6.1"
  }
 },
 "nbformat": 4,
 "nbformat_minor": 2
}
